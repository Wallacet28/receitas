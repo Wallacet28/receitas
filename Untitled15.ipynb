{
  "nbformat": 4,
  "nbformat_minor": 0,
  "metadata": {
    "colab": {
      "provenance": [],
      "authorship_tag": "ABX9TyO3oB8KkG97zGLP8//wWvsz",
      "include_colab_link": true
    },
    "kernelspec": {
      "name": "python3",
      "display_name": "Python 3"
    },
    "language_info": {
      "name": "python"
    }
  },
  "cells": [
    {
      "cell_type": "markdown",
      "metadata": {
        "id": "view-in-github",
        "colab_type": "text"
      },
      "source": [
        "<a href=\"https://colab.research.google.com/github/Wallacet28/receitas/blob/main/Untitled15.ipynb\" target=\"_parent\"><img src=\"https://colab.research.google.com/assets/colab-badge.svg\" alt=\"Open In Colab\"/></a>"
      ]
    },
    {
      "cell_type": "markdown",
      "source": [
        "Smonando valor em python utilizando a variavel"
      ],
      "metadata": {
        "id": "VjzUYliCO2yg"
      }
    },
    {
      "cell_type": "code",
      "execution_count": null,
      "metadata": {
        "colab": {
          "base_uri": "https://localhost:8080/"
        },
        "id": "nFilNx_mNUP9",
        "outputId": "88be2555-9764-4d6f-f452-52803d07be54"
      },
      "outputs": [
        {
          "output_type": "stream",
          "name": "stdout",
          "text": [
            "Digíte um valor: 2\n",
            "Digíte um valor: 5\n",
            "A soma entre o valor 2 e 5 e igual a 7\n"
          ]
        }
      ],
      "source": [
        "variavel1 = int(input('Digíte um valor: '))\n",
        "variavel2 = int(input('Digíte um valor: '))\n",
        "s = variavel1 + variavel2\n",
        "print('A soma entre o valor {} e {} e igual a {}'.format(variavel1,variavel2,s))"
      ]
    },
    {
      "cell_type": "markdown",
      "source": [
        "Mostras tipo primitivo e informações possiveis das variaveis"
      ],
      "metadata": {
        "id": "KBtOXnTXO2K1"
      }
    },
    {
      "cell_type": "code",
      "source": [
        "a = input('Digíte algo: ')\n",
        "print('O tipo primitivo desse valor é',type(a))\n",
        "print('Só tem espaço?', a.isspace())\n",
        "print('E um numero', a.isnumeric())\n",
        "print('É alfabetico?', a.isalpha())\n",
        "print('E alfanumérico?',a.isalnum())\n",
        "print('Está em maisculo?',a.isupper())\n",
        "print('Está em minisculo?',a.islower())\n",
        "print('Está capitalizada?',a.istitle())"
      ],
      "metadata": {
        "colab": {
          "base_uri": "https://localhost:8080/"
        },
        "id": "DlmyfojPQI7N",
        "outputId": "750a7049-53b7-4dd2-da9b-b552ff8b31cd"
      },
      "execution_count": null,
      "outputs": [
        {
          "output_type": "stream",
          "name": "stdout",
          "text": [
            "Digíte algo: ASDFG\n",
            "O tipo primitivo desse valor é <class 'str'>\n",
            "Só tem espaço? False\n",
            "E um numero False\n",
            "É alfabetico? True\n",
            "E alfanumérico? True\n",
            "Está em maisculo? True\n",
            "Está em minisculo? False\n",
            "Está capitalizada? False\n"
          ]
        }
      ]
    }
  ]
}