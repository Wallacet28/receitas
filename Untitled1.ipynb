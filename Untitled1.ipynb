{
  "nbformat": 4,
  "nbformat_minor": 0,
  "metadata": {
    "colab": {
      "provenance": [],
      "authorship_tag": "ABX9TyNoNIGyRE6kcy+HyBkqFi4O",
      "include_colab_link": true
    },
    "kernelspec": {
      "name": "python3",
      "display_name": "Python 3"
    },
    "language_info": {
      "name": "python"
    }
  },
  "cells": [
    {
      "cell_type": "markdown",
      "metadata": {
        "id": "view-in-github",
        "colab_type": "text"
      },
      "source": [
        "<a href=\"https://colab.research.google.com/github/Wallacet28/receitas/blob/main/Untitled1.ipynb\" target=\"_parent\"><img src=\"https://colab.research.google.com/assets/colab-badge.svg\" alt=\"Open In Colab\"/></a>"
      ]
    },
    {
      "cell_type": "code",
      "metadata": {
        "id": "mCHefcQMl6Jd"
      },
      "source": [],
      "execution_count": null,
      "outputs": []
    },
    {
      "cell_type": "code",
      "metadata": {
        "colab": {
          "base_uri": "https://localhost:8080/"
        },
        "id": "_yg7C6qzhslH",
        "outputId": "5ca4c013-aaf9-4b45-9e38-2ecf547cff3a"
      },
      "source": [
        "while True:\n",
        "   nome = input('Qual o seu nome?')\n",
        "   if ( nome !='Estudante'):\n",
        "    continue\n",
        "   senha = input('Qual a sua senha?')\n",
        "   if (senha == 'aula3'):\n",
        "    break\n",
        "print('Acesso concedido.')"
      ],
      "execution_count": null,
      "outputs": [
        {
          "output_type": "stream",
          "text": [
            "Qual o seu nome?edson\n",
            "Qual o seu nome?estudante\n",
            "Qual o seu nome?Estudante\n",
            "Qual a sua senha?aula3\n",
            "Acesso concedido.\n"
          ],
          "name": "stdout"
        }
      ]
    },
    {
      "cell_type": "code",
      "metadata": {
        "colab": {
          "base_uri": "https://localhost:8080/"
        },
        "id": "gRqHham3l6wN",
        "outputId": "d76bb625-504f-46a6-a61e-91a22f750cb5"
      },
      "source": [
        "#2 for\n",
        "for tabuada in range(1, 11, 1):\n",
        "  print('Tabuada Do {}:'.format(tabuada))\n",
        "  for i in range(1, 11, 1):\n",
        "    print( '{} x {}'.format(tabuada, i, tabuada * i))"
      ],
      "execution_count": null,
      "outputs": [
        {
          "output_type": "stream",
          "text": [
            "Tabuada Do 1:\n",
            "1 x 1\n",
            "1 x 2\n",
            "1 x 3\n",
            "1 x 4\n",
            "1 x 5\n",
            "1 x 6\n",
            "1 x 7\n",
            "1 x 8\n",
            "1 x 9\n",
            "1 x 10\n",
            "Tabuada Do 2:\n",
            "2 x 1\n",
            "2 x 2\n",
            "2 x 3\n",
            "2 x 4\n",
            "2 x 5\n",
            "2 x 6\n",
            "2 x 7\n",
            "2 x 8\n",
            "2 x 9\n",
            "2 x 10\n",
            "Tabuada Do 3:\n",
            "3 x 1\n",
            "3 x 2\n",
            "3 x 3\n",
            "3 x 4\n",
            "3 x 5\n",
            "3 x 6\n",
            "3 x 7\n",
            "3 x 8\n",
            "3 x 9\n",
            "3 x 10\n",
            "Tabuada Do 4:\n",
            "4 x 1\n",
            "4 x 2\n",
            "4 x 3\n",
            "4 x 4\n",
            "4 x 5\n",
            "4 x 6\n",
            "4 x 7\n",
            "4 x 8\n",
            "4 x 9\n",
            "4 x 10\n",
            "Tabuada Do 5:\n",
            "5 x 1\n",
            "5 x 2\n",
            "5 x 3\n",
            "5 x 4\n",
            "5 x 5\n",
            "5 x 6\n",
            "5 x 7\n",
            "5 x 8\n",
            "5 x 9\n",
            "5 x 10\n",
            "Tabuada Do 6:\n",
            "6 x 1\n",
            "6 x 2\n",
            "6 x 3\n",
            "6 x 4\n",
            "6 x 5\n",
            "6 x 6\n",
            "6 x 7\n",
            "6 x 8\n",
            "6 x 9\n",
            "6 x 10\n",
            "Tabuada Do 7:\n",
            "7 x 1\n",
            "7 x 2\n",
            "7 x 3\n",
            "7 x 4\n",
            "7 x 5\n",
            "7 x 6\n",
            "7 x 7\n",
            "7 x 8\n",
            "7 x 9\n",
            "7 x 10\n",
            "Tabuada Do 8:\n",
            "8 x 1\n",
            "8 x 2\n",
            "8 x 3\n",
            "8 x 4\n",
            "8 x 5\n",
            "8 x 6\n",
            "8 x 7\n",
            "8 x 8\n",
            "8 x 9\n",
            "8 x 10\n",
            "Tabuada Do 9:\n",
            "9 x 1\n",
            "9 x 2\n",
            "9 x 3\n",
            "9 x 4\n",
            "9 x 5\n",
            "9 x 6\n",
            "9 x 7\n",
            "9 x 8\n",
            "9 x 9\n",
            "9 x 10\n",
            "Tabuada Do 10:\n",
            "10 x 1\n",
            "10 x 2\n",
            "10 x 3\n",
            "10 x 4\n",
            "10 x 5\n",
            "10 x 6\n",
            "10 x 7\n",
            "10 x 8\n",
            "10 x 9\n",
            "10 x 10\n"
          ],
          "name": "stdout"
        }
      ]
    },
    {
      "cell_type": "code",
      "metadata": {
        "colab": {
          "base_uri": "https://localhost:8080/"
        },
        "id": "0Dflo7tHqFCa",
        "outputId": "409d588c-7e1b-4807-cf85-cac3193581ee"
      },
      "source": [
        "preco = float(input('Digíte o preço do produto:'))\n",
        "p= float(input('Digíte o percentual de desconto (0 100)%'))\n",
        "\n",
        "desconto= preco * (p/100)\n",
        "final = preco - desconto\n",
        "\n",
        "print('O preço do produto é {}. Desconto de {}%'.format(preco, p))\n",
        "print(' Valor calculado de desconto: {}. Valor final do produto: {}'.format(desconto, final))"
      ],
      "execution_count": null,
      "outputs": [
        {
          "output_type": "stream",
          "name": "stdout",
          "text": [
            "Digíte o preço do produto:346\n",
            "Digíte o percentual de desconto (0 100)%11\n",
            "O preço do produto é 346.0. Desconto de 11.0%\n",
            " Valor calculado de desconto: 38.06. Valor final do produto: 307.94\n"
          ]
        }
      ]
    },
    {
      "cell_type": "code",
      "metadata": {
        "id": "U9HvK5oXsp-R",
        "colab": {
          "base_uri": "https://localhost:8080/",
          "height": 131
        },
        "outputId": "09ea065e-5ad0-4595-be56-bd16abc56a4b"
      },
      "source": [
        "km = int(input('Quantos km formam percorridos?'))\n",
        "dias = int(input('Por quantos dias ele foi alugado?'))\n",
        "\n",
        "preco = 60 x dias + 0,15 * km\n",
        "\n",
        "print('km ={}.Dias: {}'.format(km, dias))\n",
        "print('Valor a ser pago: {}'.format(preco))"
      ],
      "execution_count": null,
      "outputs": [
        {
          "output_type": "error",
          "ename": "SyntaxError",
          "evalue": "ignored",
          "traceback": [
            "\u001b[0;36m  File \u001b[0;32m\"<ipython-input-3-8bcb17c4e71d>\"\u001b[0;36m, line \u001b[0;32m4\u001b[0m\n\u001b[0;31m    preco = 60 x dias + 0,15 * km\u001b[0m\n\u001b[0m               ^\u001b[0m\n\u001b[0;31mSyntaxError\u001b[0m\u001b[0;31m:\u001b[0m invalid syntax\n"
          ]
        }
      ]
    },
    {
      "cell_type": "code",
      "metadata": {
        "id": "C6LYn8R4o7Lx",
        "colab": {
          "base_uri": "https://localhost:8080/"
        },
        "outputId": "e0897deb-cbaa-467e-82e0-b76ca8d4d107"
      },
      "source": [
        "print('Digíte uma mensagem que irei repetir para vc ')\n"
      ],
      "execution_count": null,
      "outputs": [
        {
          "output_type": "stream",
          "name": "stdout",
          "text": [
            "Digíte uma mensagem que irei repetir para vc \n"
          ]
        }
      ]
    },
    {
      "cell_type": "code",
      "metadata": {
        "id": "d9wv5tvepAyW",
        "colab": {
          "base_uri": "https://localhost:8080/"
        },
        "outputId": "f8d4c847-7b22-424e-d47e-3c92d302f0ca"
      },
      "source": [
        "print('A pequena aranha escalou a tromba dágua.')\n",
        "print('A chuva desceu e levou a aranha para fora.')\n",
        "print('\\n')\n",
        "print('A pequena aranha\\nescalou a tromba dágua')\n",
        "print()\n",
        "print('A chuva desceu e levou\\na aranha para fora')\n",
        "print('\\n')\n",
        "\n",
        "print('A pequena aranha', 'escalou', 'a tromba dágua')"
      ],
      "execution_count": null,
      "outputs": [
        {
          "output_type": "stream",
          "name": "stdout",
          "text": [
            "A pequena aranha escalou a tromba dágua.\n",
            "A chuva desceu e levou a aranha para fora.\n",
            "\n",
            "\n",
            "A pequena aranha\n",
            "escalou a tromba dágua\n",
            "\n",
            "A chuva desceu e levou\n",
            "a aranha para fora\n",
            "\n",
            "\n",
            "A pequena aranha escalou a tromba dágua\n"
          ]
        }
      ]
    }
  ]
}