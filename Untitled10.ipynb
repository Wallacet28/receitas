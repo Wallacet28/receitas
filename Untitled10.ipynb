{
  "nbformat": 4,
  "nbformat_minor": 0,
  "metadata": {
    "colab": {
      "provenance": [],
      "authorship_tag": "ABX9TyO47aX14jdVkPX+7w0i8EDI",
      "include_colab_link": true
    },
    "kernelspec": {
      "name": "python3",
      "display_name": "Python 3"
    },
    "language_info": {
      "name": "python"
    }
  },
  "cells": [
    {
      "cell_type": "markdown",
      "metadata": {
        "id": "view-in-github",
        "colab_type": "text"
      },
      "source": [
        "<a href=\"https://colab.research.google.com/github/Wallacet28/receitas/blob/main/Untitled10.ipynb\" target=\"_parent\"><img src=\"https://colab.research.google.com/assets/colab-badge.svg\" alt=\"Open In Colab\"/></a>"
      ]
    },
    {
      "cell_type": "code",
      "metadata": {
        "id": "r9cEv48GOD7B"
      },
      "source": [
        "from geopy.geocoders import Nominatim"
      ],
      "execution_count": null,
      "outputs": []
    },
    {
      "cell_type": "code",
      "metadata": {
        "id": "Yzn8oGkcOXGa"
      },
      "source": [
        "# Rua José Inácio da Silva - Senhora de Oliveira, Minas Gerais - Mg\n",
        "locator = Nominatim(user_agent=\"myGeocoder\")\n",
        "location = locator.geocode(\"Rua José Inácio da Silva - Senhora de Oliveira, Minas Gerais - Mg\")"
      ],
      "execution_count": null,
      "outputs": []
    },
    {
      "cell_type": "code",
      "metadata": {
        "colab": {
          "base_uri": "https://localhost:8080/"
        },
        "id": "5AT0vmTUPmt-",
        "outputId": "e1815523-ca75-4cf7-a742-63eb6ddad419"
      },
      "source": [
        "location.point"
      ],
      "execution_count": null,
      "outputs": [
        {
          "output_type": "execute_result",
          "data": {
            "text/plain": [
              "Point(-20.7947762, -43.3403119, 0.0)"
            ]
          },
          "metadata": {},
          "execution_count": 4
        }
      ]
    },
    {
      "cell_type": "code",
      "metadata": {
        "colab": {
          "base_uri": "https://localhost:8080/"
        },
        "id": "WbCbtuY-P0R1",
        "outputId": "3adf1e3a-1166-4363-86f1-857976648914"
      },
      "source": [
        "location"
      ],
      "execution_count": null,
      "outputs": [
        {
          "output_type": "execute_result",
          "data": {
            "text/plain": [
              "Location(Rua José Inácio da SIlva, Senhora de Oliveira, Região Geográfica Imediata de Conselheiro Lafaiete, Minas Gerais, Região Sudeste, Brasil, (-20.7947762, -43.3403119, 0.0))"
            ]
          },
          "metadata": {},
          "execution_count": 5
        }
      ]
    },
    {
      "cell_type": "code",
      "metadata": {
        "colab": {
          "base_uri": "https://localhost:8080/",
          "height": 35
        },
        "id": "9hAaYlJJP3uz",
        "outputId": "d97be0b3-5626-4f95-a8b1-fe5637e2a696"
      },
      "source": [
        "location.address"
      ],
      "execution_count": null,
      "outputs": [
        {
          "output_type": "execute_result",
          "data": {
            "application/vnd.google.colaboratory.intrinsic+json": {
              "type": "string"
            },
            "text/plain": [
              "'Rua José Inácio da SIlva, Senhora de Oliveira, Região Geográfica Imediata de Conselheiro Lafaiete, Minas Gerais, Região Sudeste, Brasil'"
            ]
          },
          "metadata": {},
          "execution_count": 6
        }
      ]
    },
    {
      "cell_type": "code",
      "metadata": {
        "id": "6GO2yIo0P9nf"
      },
      "source": [],
      "execution_count": null,
      "outputs": []
    }
  ]
}