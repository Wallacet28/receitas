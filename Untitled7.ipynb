{
  "nbformat": 4,
  "nbformat_minor": 0,
  "metadata": {
    "colab": {
      "provenance": [],
      "authorship_tag": "ABX9TyPvr/kyAPpWgKPChhh8Vl7z",
      "include_colab_link": true
    },
    "kernelspec": {
      "name": "python3",
      "display_name": "Python 3"
    },
    "language_info": {
      "name": "python"
    }
  },
  "cells": [
    {
      "cell_type": "markdown",
      "metadata": {
        "id": "view-in-github",
        "colab_type": "text"
      },
      "source": [
        "<a href=\"https://colab.research.google.com/github/Wallacet28/receitas/blob/main/Untitled7.ipynb\" target=\"_parent\"><img src=\"https://colab.research.google.com/assets/colab-badge.svg\" alt=\"Open In Colab\"/></a>"
      ]
    },
    {
      "cell_type": "code",
      "metadata": {
        "colab": {
          "base_uri": "https://localhost:8080/"
        },
        "id": "-Y-Boi8h-oJl",
        "outputId": "b030cf58-babf-40ea-82da-ec6cdd7ad9eb"
      },
      "source": [
        "print('Bem vindos, vamos aprender Pyton!')"
      ],
      "execution_count": null,
      "outputs": [
        {
          "output_type": "stream",
          "name": "stdout",
          "text": [
            "Bem vindos, vamos aprender Pyton\n"
          ]
        }
      ]
    },
    {
      "cell_type": "markdown",
      "metadata": {
        "id": "SiuBmkx2AXmL"
      },
      "source": [
        "## Atribuição de variáveis\n",
        "\n"
      ]
    },
    {
      "cell_type": "code",
      "metadata": {
        "id": "5DJMQgDNBkIG"
      },
      "source": [
        "# caracteristica do aluno\n",
        "meunome = 'Wallace tadeu'\n",
        "minhaidade = 28"
      ],
      "execution_count": 3,
      "outputs": []
    },
    {
      "cell_type": "code",
      "metadata": {
        "colab": {
          "base_uri": "https://localhost:8080/"
        },
        "id": "kVkG3jPZByan",
        "outputId": "db9791e7-5ac6-43aa-bf27-6484c3f2da7f"
      },
      "source": [
        "print(meunome)\n",
        "print(minhaidade)"
      ],
      "execution_count": null,
      "outputs": [
        {
          "output_type": "stream",
          "name": "stdout",
          "text": [
            "Wallace tadeu\n",
            "28\n"
          ]
        }
      ]
    },
    {
      "cell_type": "code",
      "metadata": {
        "id": "IoY5UuuNC4Co"
      },
      "source": [
        "minha_idade = 28"
      ],
      "execution_count": 1,
      "outputs": []
    },
    {
      "cell_type": "code",
      "metadata": {
        "colab": {
          "base_uri": "https://localhost:8080/"
        },
        "id": "T327bW7fCCzY",
        "outputId": "7cf090e7-3afa-4337-fba1-228e24d1df29"
      },
      "source": [
        "type(meunome)"
      ],
      "execution_count": null,
      "outputs": [
        {
          "output_type": "execute_result",
          "data": {
            "text/plain": [
              "str"
            ]
          },
          "metadata": {},
          "execution_count": 35
        }
      ]
    },
    {
      "cell_type": "code",
      "metadata": {
        "colab": {
          "base_uri": "https://localhost:8080/"
        },
        "id": "_zx2iGC-Dq6t",
        "outputId": "7e8788d8-791a-44c2-cb71-d4abb01343d0"
      },
      "source": [
        "len(meunome)"
      ],
      "execution_count": null,
      "outputs": [
        {
          "output_type": "execute_result",
          "data": {
            "text/plain": [
              "13"
            ]
          },
          "metadata": {},
          "execution_count": 40
        }
      ]
    },
    {
      "cell_type": "markdown",
      "metadata": {
        "id": "VYWnn9MoErs2"
      },
      "source": [
        "## Operadores Matemáticos"
      ]
    },
    {
      "cell_type": "code",
      "metadata": {
        "colab": {
          "base_uri": "https://localhost:8080/"
        },
        "id": "T6cJ8UTDEzaQ",
        "outputId": "48fe0bfe-7f7e-41b2-aa5c-c5f522557642"
      },
      "source": [
        "a = 4\n",
        "b = 7\n",
        "\n",
        "print('Soma:', a + b)\n",
        "print('Dif:', a - b)\n",
        "print('Mul:', a * b)\n",
        "print('Div:', a / b)\n",
        "\n"
      ],
      "execution_count": null,
      "outputs": [
        {
          "output_type": "stream",
          "name": "stdout",
          "text": [
            "Soma: 11\n",
            "Dif: -3\n",
            "Mul: 28\n",
            "Div: 0.5714285714285714\n"
          ]
        }
      ]
    },
    {
      "cell_type": "code",
      "metadata": {
        "colab": {
          "base_uri": "https://localhost:8080/"
        },
        "id": "8uYXBOsRREXQ",
        "outputId": "8a50e239-f482-4bf6-ed42-cb0583bcd56e"
      },
      "source": [
        "a > b"
      ],
      "execution_count": null,
      "outputs": [
        {
          "output_type": "execute_result",
          "data": {
            "text/plain": [
              "False"
            ]
          },
          "metadata": {},
          "execution_count": 56
        }
      ]
    },
    {
      "cell_type": "markdown",
      "metadata": {
        "id": "TbMrqmZ7Tdh3"
      },
      "source": []
    },
    {
      "cell_type": "code",
      "metadata": {
        "id": "mYiKsxlMUPnQ"
      },
      "source": [],
      "execution_count": null,
      "outputs": []
    },
    {
      "cell_type": "markdown",
      "metadata": {
        "id": "WAOotQZkTeH8"
      },
      "source": [
        " Equação do seguando grau\n",
        "\n",
        " $$ a x^2 + bx + c = 0 $$\n",
        "\n",
        "\n",
        ""
      ]
    },
    {
      "cell_type": "code",
      "metadata": {
        "colab": {
          "base_uri": "https://localhost:8080/"
        },
        "id": "ZZNUeBKCURXD",
        "outputId": "c0970288-30ec-4e30-da3e-f449c28ef2e7"
      },
      "source": [
        "a , b, c = 2, 3, -1\n",
        "\n",
        "\n",
        "delta = b**2 - 4*a*c\n",
        "\n",
        "delta\n",
        "\n",
        "if delta > 0:\n",
        "  x1 = (-b + delta**(1/2))/(2*a)\n",
        "  x2 = (-b - delta**(1/2))/(2*a)\n",
        "  print('As raízes são {} o {}'.format(x1, x2))\n",
        "elif delta == 0:\n",
        "  x = -b/(2*a)\n",
        "  print('A raíz é {}'.format(x))\n",
        "else:\n",
        "  print('A equação naão possui raízes reais')"
      ],
      "execution_count": 2,
      "outputs": [
        {
          "output_type": "stream",
          "name": "stdout",
          "text": [
            "As raízes são 0.28077640640441515 o -1.7807764064044151\n"
          ]
        }
      ]
    },
    {
      "cell_type": "markdown",
      "metadata": {
        "id": "qicN8Sf8Ywwt"
      },
      "source": [
        "Definindo função"
      ]
    },
    {
      "cell_type": "code",
      "metadata": {
        "id": "bN2sS9GTY0js"
      },
      "source": [
        "def minhafuncao(n_asterisco):\n",
        "  print('*' * n_asterisco)\n",
        "  print('Wallace')\n",
        "  print('*' * n_asterisco)"
      ],
      "execution_count": null,
      "outputs": []
    },
    {
      "cell_type": "code",
      "metadata": {
        "colab": {
          "base_uri": "https://localhost:8080/"
        },
        "id": "mjMalDuIZIPb",
        "outputId": "0b9a6951-b787-4a8c-bc4f-93161f42caff"
      },
      "source": [
        "minhafuncao(n_asterisco = 10)"
      ],
      "execution_count": null,
      "outputs": [
        {
          "output_type": "stream",
          "name": "stdout",
          "text": [
            "**********\n",
            "Wallace\n",
            "**********\n"
          ]
        }
      ]
    }
  ]
}