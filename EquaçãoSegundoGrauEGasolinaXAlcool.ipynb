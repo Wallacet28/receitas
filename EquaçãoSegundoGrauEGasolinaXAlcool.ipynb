{
  "nbformat": 4,
  "nbformat_minor": 0,
  "metadata": {
    "colab": {
      "provenance": [],
      "authorship_tag": "ABX9TyP+kSUzFffYSwJeBvzPkK1O",
      "include_colab_link": true
    },
    "kernelspec": {
      "name": "python3",
      "display_name": "Python 3"
    },
    "language_info": {
      "name": "python"
    }
  },
  "cells": [
    {
      "cell_type": "markdown",
      "metadata": {
        "id": "view-in-github",
        "colab_type": "text"
      },
      "source": [
        "<a href=\"https://colab.research.google.com/github/Wallacet28/receitas/blob/main/Equa%C3%A7%C3%A3oSegundoGrauEGasolinaXAlcool.ipynb\" target=\"_parent\"><img src=\"https://colab.research.google.com/assets/colab-badge.svg\" alt=\"Open In Colab\"/></a>"
      ]
    },
    {
      "cell_type": "code",
      "execution_count": 3,
      "metadata": {
        "colab": {
          "base_uri": "https://localhost:8080/"
        },
        "id": "Ry2Jpn2ne7Ej",
        "outputId": "15cdde98-5f78-48be-e4e1-fb90d1b3c8e4"
      },
      "outputs": [
        {
          "output_type": "stream",
          "name": "stdout",
          "text": [
            "Digite o coeficiente 'a': 2\n",
            "Digite o coeficiente 'b': -4\n",
            "Digite o coeficiente 'c': 2\n",
            "A raiz é: 1.0\n"
          ]
        }
      ],
      "source": [
        "\n",
        "import math\n",
        "\n",
        "# Solicita os coeficientes a, b e c ao usuário\n",
        "a = float(input(\"Digite o coeficiente 'a': \"))\n",
        "b = float(input(\"Digite o coeficiente 'b': \"))\n",
        "c = float(input(\"Digite o coeficiente 'c': \"))\n",
        "\n",
        "# Calcula o discriminante (delta)\n",
        "delta = b**2 - 4*a*c\n",
        "\n",
        "# Verifica se as raízes são reais\n",
        "if delta > 0:\n",
        "    # Duas raízes reais distintas\n",
        "    x1 = (-b + math.sqrt(delta)) / (2*a)\n",
        "    x2 = (-b - math.sqrt(delta)) / (2*a)\n",
        "    print(\"As raízes são:\", x1, \"e\", x2)\n",
        "elif delta == 0:\n",
        "    # Raiz real única (raiz dupla)\n",
        "    x1 = -b / (2*a)\n",
        "    print(\"A raiz é:\", x1)\n",
        "else:\n",
        "    # Raízes complexas (não reais)\n",
        "    realPart = -b / (2*a)\n",
        "    imaginaryPart = math.sqrt(-delta) / (2*a)\n",
        "    print(\"As raízes são complexas:\", realPart, \"+\", imaginaryPart, \"i e\", realPart, \"-\", imaginaryPart, \"i\")"
      ]
    },
    {
      "cell_type": "code",
      "source": [
        "# Preço por litro de gasolina e álcool\n",
        "preco_gasolina = float(input(\"Digite o preço da gasolina por litro: \"))\n",
        "preco_alcool = float(input(\"Digite o preço do álcool por litro: \"))\n",
        "\n",
        "# Calcula o preço por litro considerando o desconto para o álcool (70%)\n",
        "preco_alcool_desconto = preco_alcool * 0.7\n",
        "\n",
        "# Calcula a relação entre os preços\n",
        "relacao_preco = preco_alcool_desconto / preco_gasolina\n",
        "\n",
        "if relacao_preco < 0.7:\n",
        "    print(\"Abasteça com álcool, pois está mais barato.\")\n",
        "else:\n",
        "    print(\"Abasteça com gasolina, pois está mais barato.\")"
      ],
      "metadata": {
        "colab": {
          "base_uri": "https://localhost:8080/"
        },
        "id": "L9ozsQr5fyr-",
        "outputId": "d65d048a-e6d9-4267-ba1f-7f40fa77e86d"
      },
      "execution_count": 4,
      "outputs": [
        {
          "output_type": "stream",
          "name": "stdout",
          "text": [
            "Digite o preço da gasolina por litro: 5\n",
            "Digite o preço do álcool por litro: 4\n",
            "Abasteça com álcool, pois está mais barato.\n"
          ]
        }
      ]
    }
  ]
}